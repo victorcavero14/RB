{
 "cells": [
  {
   "cell_type": "code",
   "execution_count": 1,
   "metadata": {},
   "outputs": [
    {
     "ename": "IndentationError",
     "evalue": "expected an indented block (<ipython-input-1-3e2a83335518>, line 4)",
     "output_type": "error",
     "traceback": [
      "\u001b[0;36m  File \u001b[0;32m\"<ipython-input-1-3e2a83335518>\"\u001b[0;36m, line \u001b[0;32m4\u001b[0m\n\u001b[0;31m    (x,y,z,f) = input(\"Dame el punto C\")\u001b[0m\n\u001b[0m    ^\u001b[0m\n\u001b[0;31mIndentationError\u001b[0m\u001b[0;31m:\u001b[0m expected an indented block\n"
     ]
    }
   ],
   "source": [
    "import threading\n",
    "#import API\n",
    "\n",
    "def main():\n",
    "    \n",
    "    SetIODO(api, 18, 0, 0) #activa el compresor\n",
    "    SetIODO(api, 17, 0, 0) #abre pinza\n",
    "    \n",
    "    while true:\n",
    "        if GetIOEXDI(api, 1, count) == 0 : \n",
    "            \n",
    "        \n",
    "        \n",
    "\n",
    "main()\n",
    "\n"
   ]
  },
  {
   "cell_type": "code",
   "execution_count": null,
   "metadata": {},
   "outputs": [],
   "source": []
  }
 ],
 "metadata": {
  "kernelspec": {
   "display_name": "Python 3",
   "language": "python",
   "name": "python3"
  },
  "language_info": {
   "codemirror_mode": {
    "name": "ipython",
    "version": 3
   },
   "file_extension": ".py",
   "mimetype": "text/x-python",
   "name": "python",
   "nbconvert_exporter": "python",
   "pygments_lexer": "ipython3",
   "version": "3.7.3"
  }
 },
 "nbformat": 4,
 "nbformat_minor": 2
}
